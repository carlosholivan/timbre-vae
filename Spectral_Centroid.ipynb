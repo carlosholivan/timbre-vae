{
 "cells": [
  {
   "cell_type": "markdown",
   "metadata": {},
   "source": [
    "<div>\n",
    "<img style=\"float:left; border-radius:50%\" src=\"https://avatars2.githubusercontent.com/u/58553327?s=460&u=3276252f07fb379c248bc8c9ce344bfdcaed7c45&v=4\" width=\"40px\">\n",
    "<a href=\"https://github.com/carlosholivan\"><img src=\"https://www.sferalabs.cc/wp-content/uploads/github-logo.png\" width=70px style=\"float: right;\"></a>\n",
    "</div>\n",
    "\n",
    "<a name=\"top\"></a>"
   ]
  },
  {
   "cell_type": "markdown",
   "metadata": {},
   "source": [
    "# ANALYSIS OF SPECTRAL CENTROIDS OF LONDON PHILARMONIC ORCHESTRA DATASET"
   ]
  },
  {
   "cell_type": "markdown",
   "metadata": {},
   "source": [
    "Author: Carlos Hernández Oliván<br>\n",
    "Last update: 7 November 2020\n",
    "\n",
    "<div class=\"alert alert-block alert-warning\">\n",
    "<strong>Note:</strong> Audio format files: wav (in different resolutions), flac.\n",
    "<br>\n",
    "</div>   "
   ]
  },
  {
   "cell_type": "markdown",
   "metadata": {},
   "source": [
    "## 1. SPECTRAL CENTROID"
   ]
  },
  {
   "cell_type": "markdown",
   "metadata": {},
   "source": [
    "The spectral centroid is a measure that indicates where the center of mass of the spectrum is located.\n",
    "\n",
    "It is calculated as the weighted mean of the frequencies present in the signal, determined using a Fourier transform, with their magnitudes as the weights:\n",
    "\n",
    "\\begin{equation}\n",
    "\\mathrm{COG} = \\frac{\\sum_{x=a}^b\\!\\mu_{A}(x)x}{\\sum_{x=a}^b\\!\\mu_{A}(x)}\n",
    "%\\label{eq:cogCont}\n",
    "\\end{equation}"
   ]
  },
  {
   "cell_type": "code",
   "execution_count": 1,
   "metadata": {},
   "outputs": [],
   "source": [
    "import os\n",
    "import numpy as np\n",
    "import librosa\n",
    "import librosa.display\n",
    "import matplotlib.pyplot as plt\n",
    "%matplotlib inline\n",
    "\n",
    "import warnings\n",
    "warnings.filterwarnings('ignore')"
   ]
  },
  {
   "cell_type": "code",
   "execution_count": 2,
   "metadata": {},
   "outputs": [],
   "source": [
    "# wav and MIDI paths\n",
    "path = '/media/carlos/FILES/INVESTIGACION/Datasets/London Philarmonic Orchestra/'"
   ]
  },
  {
   "cell_type": "markdown",
   "metadata": {},
   "source": [
    "Convert mp3 files in wav files and save them to disk"
   ]
  },
  {
   "cell_type": "code",
   "execution_count": 3,
   "metadata": {},
   "outputs": [],
   "source": [
    "### Checking format of audio files: if extension is mp3, try to convert it to wav\n",
    "from pydub import AudioSegment\n",
    "\n",
    "def convert_mp3_to_wav(path):\n",
    "    instruments = os.listdir(path)\n",
    "    for i in range(len(instruments)):\n",
    "        instrument_path = os.path.join(path, instruments[i])\n",
    "        instrument_files = os.listdir(instrument_path)\n",
    "        for j in range(len(instrument_files)):\n",
    "            instrument_files_path = os.path.join(instrument_path, instrument_files[j])\n",
    "            if instrument_files_path.split(\".\",1)[1] == 'mp3':\n",
    "                try:\n",
    "                    sound = AudioSegment.from_mp3(instrument_files_path)\n",
    "                    instrument_files_wav_path = instrument_files_path.split(\".\",1)[0]\n",
    "                    sound.export(instrument_files_wav_path + \".wav\", format=\"wav\") #convert to wav file\n",
    "                    if instrument_files_path.split(\".\",1)[1] == 'mp3':\n",
    "                        os.remove(instrument_files_path) #delete mp3 examples\n",
    "                except:\n",
    "                    continue"
   ]
  },
  {
   "cell_type": "code",
   "execution_count": 4,
   "metadata": {},
   "outputs": [],
   "source": [
    "# Check if the selected instrument is in the dataset and get path if True\n",
    "def get_instruments_path(path, instrument_name):\n",
    "    instruments = os.listdir(path)\n",
    "    if instrument_name in instruments:\n",
    "        for filename in instruments:\n",
    "            if filename == instrument_name:\n",
    "                instrument_path = os.path.join(path, filename)\n",
    "                instrument_files = os.listdir(instrument_path)\n",
    "        return instrument_path, instrument_files\n",
    "    else:\n",
    "        raise ValueError('The instrument is not in the dataset')"
   ]
  },
  {
   "cell_type": "code",
   "execution_count": 5,
   "metadata": {},
   "outputs": [],
   "source": [
    "def compute_centroids(path, instrument_name):\n",
    "    # Store all instrument file names and their centroids in a dictionary\n",
    "    \n",
    "    instrument_path, instrument_files = get_instruments_path(path, instrument_name)\n",
    "    \n",
    "    data = {}\n",
    "    for j in range(len(instrument_files)):\n",
    "        instrument_file_path = os.path.join(instrument_path, instrument_files[j])\n",
    "        try:\n",
    "            y, sr = librosa.load(str(instrument_file_path), sr=None)   \n",
    "            centroid = librosa.feature.spectral_centroid(y=y, sr=sr)\n",
    "            instrument_name = instrument_files[j].split(\".\",1)[0]\n",
    "            if instrument_name not in data:\n",
    "                data.update({instrument_name: centroid})\n",
    "        except:\n",
    "            continue\n",
    "    return data"
   ]
  },
  {
   "cell_type": "code",
   "execution_count": 6,
   "metadata": {},
   "outputs": [],
   "source": [
    "def subplot_centroids(instrument_name):\n",
    "    \n",
    "    # Compute centroids\n",
    "    data = compute_centroids(path, instrument_name)\n",
    "    \n",
    "    # Plot the centroids\n",
    "    if len(data.keys()) == 1:\n",
    "        times = librosa.times_like(list(data.values())[0])\n",
    "        plt.plot(times, list(data.values())[0].T, label=list(data.keys())[0])\n",
    "            \n",
    "    else:\n",
    "        if len(data.keys()) < 5:\n",
    "            n_rows = 1\n",
    "            n_cols = len(data.keys())\n",
    "            \n",
    "        else:\n",
    "            n_rows = len(data.keys())//5 + len(data.keys())%5 - 1\n",
    "            n_cols = 5\n",
    "\n",
    "        fig, ax = plt.subplots(n_rows, n_cols, figsize=(20, len(data.keys())))\n",
    "        fig.subplots_adjust(hspace = .5, wspace=.01)\n",
    "        ax = ax.ravel()\n",
    "\n",
    "        i = 0\n",
    "        for label, centroid_value in data.items():\n",
    "            if i == len(data.keys()):\n",
    "                break\n",
    "            times = librosa.times_like(centroid_value)\n",
    "            ax[i].plot(times, centroid_value.T, label=label)\n",
    "            ax[i].tick_params(axis=\"x\", labelsize=8)\n",
    "            ax[i].tick_params(axis=\"y\", labelsize=8)\n",
    "            ax[i].set_title(label, fontsize=8)\n",
    "            i += 1"
   ]
  },
  {
   "cell_type": "code",
   "execution_count": 7,
   "metadata": {},
   "outputs": [],
   "source": [
    "def plot_centroids_together(instrument_name):\n",
    "    \n",
    "    # Compute centroids\n",
    "    data = compute_centroids(path, instrument_name)\n",
    "    \n",
    "    fig, ax = plt.subplots(figsize=(15,8))\n",
    "    plt.xlabel('time', fontsize=15)\n",
    "    plt.ylabel('freq', fontsize=15)\n",
    "    for label, centroid_value in data.items():\n",
    "        times = librosa.times_like(centroid_value)\n",
    "        ax.plot(times, centroid_value.T, label=label)\n",
    "        ax.legend(loc='upper right')\n",
    "    ax.set(title='Centroids')"
   ]
  },
  {
   "cell_type": "markdown",
   "metadata": {},
   "source": [
    "### Plot results"
   ]
  },
  {
   "cell_type": "code",
   "execution_count": 8,
   "metadata": {
    "scrolled": false
   },
   "outputs": [
    {
     "data": {
      "application/vnd.jupyter.widget-view+json": {
       "model_id": "480363ce22c34d05bda7949ff052141b",
       "version_major": 2,
       "version_minor": 0
      },
      "text/plain": [
       "Dropdown(options=('agogo bells', 'banana shaker', 'banjo', 'bass clarinet', 'bass drum', 'bassoon', 'bell tree…"
      ]
     },
     "metadata": {},
     "output_type": "display_data"
    }
   ],
   "source": [
    "import ipywidgets as widgets\n",
    "from IPython.display import display, clear_output\n",
    "\n",
    "d = widgets.Dropdown(options=os.listdir(path), value=None)\n",
    "    \n",
    "display(d)   \n",
    "\n",
    "def on_change(change):\n",
    "    if change['name'] == 'value' and (change['new'] != change['old']):\n",
    "        clear_output()\n",
    "        instrument_name = change['new']\n",
    "        _, instr_path = get_instruments_path(path, instrument_name)\n",
    "        display(d)\n",
    "        print('Number of instruments of', instrument_name, 'family is:', len(instr_path))\n",
    "        subplot_centroids(instrument_name)\n",
    "\n",
    "instrument_name = d.observe(on_change)"
   ]
  },
  {
   "cell_type": "markdown",
   "metadata": {},
   "source": [
    "[<button type=\"button\" class=\"btn btn-primary\" style=\"background-color:#a273f9; border:0\">⇦ Back to Top</button>](#top)"
   ]
  },
  {
   "cell_type": "code",
   "execution_count": null,
   "metadata": {},
   "outputs": [],
   "source": []
  },
  {
   "cell_type": "markdown",
   "metadata": {},
   "source": [
    "### References <a name=\"references\"></a>\n",
    "\n",
    "* Librosa"
   ]
  },
  {
   "cell_type": "markdown",
   "metadata": {},
   "source": [
    "<div>\n",
    "    \n",
    "<button type=\"button\" class=\"btn btn-primary\" style=\"float:left; background-color:#a273f9; border:0\"><a href=\"#top\" style=\"color:white; text-decoration: none\">⇦ Back to Top</a></button>\n",
    "\n",
    "<button type=\"button\" class=\"btn btn-primary\" style=\"float:right; background-color:#BA55D3; border:0\"><a href=\"2-chord_prediction.ipynb\" style=\"color:white; text-decoration: none\">Go to Chord Detection ⇒</a></button>\n",
    "    \n",
    "</div>"
   ]
  }
 ],
 "metadata": {
  "kernelspec": {
   "display_name": "Python 3",
   "language": "python",
   "name": "python3"
  },
  "language_info": {
   "codemirror_mode": {
    "name": "ipython",
    "version": 3
   },
   "file_extension": ".py",
   "mimetype": "text/x-python",
   "name": "python",
   "nbconvert_exporter": "python",
   "pygments_lexer": "ipython3",
   "version": "3.8.5"
  }
 },
 "nbformat": 4,
 "nbformat_minor": 4
}
