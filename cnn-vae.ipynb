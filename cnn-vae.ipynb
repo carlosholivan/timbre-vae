{
 "cells": [
  {
   "cell_type": "markdown",
   "metadata": {},
   "source": [
    "<div>\n",
    "<img style=\"float:left; border-radius:50%\" src=\"https://avatars2.githubusercontent.com/u/58553327?s=460&u=3276252f07fb379c248bc8c9ce344bfdcaed7c45&v=4\" width=\"40px\">\n",
    "<a href=\"https://github.com/carlosholivan\"><img src=\"https://www.sferalabs.cc/wp-content/uploads/github-logo.png\" width=70px style=\"float: right;\"></a>\n",
    "</div>\n",
    "\n",
    "<a name=\"top\"></a>"
   ]
  },
  {
   "cell_type": "markdown",
   "metadata": {},
   "source": [
    "# CNN VAE <a name=\"top\"></a>\n",
    "\n",
    "In this notebook it is described how to compute different time-frequency inputs with <strong>compute_input_from_audiopath</strong> function.\n",
    "\n",
    "Author: Carlos Hernández Oliván<br>\n",
    "Last update: 7 November 2020\n",
    "  \n",
    "\n",
    "### Table of Contents <a name=\"index\"></a>\n",
    " \n",
    "1. [Short-Time Fourier Transform](#stft)\n",
    "2. [Chroma from STFT](#chroma-stft)\n",
    "3. [Constant Q-Transform](#cqt)\n",
    "    \n",
    "[References](#references)"
   ]
  },
  {
   "cell_type": "code",
   "execution_count": 1,
   "metadata": {},
   "outputs": [],
   "source": [
    "import os\n",
    "\n",
    "import torch\n",
    "from torch import optim, nn\n",
    "from torch.utils.data import DataLoader\n",
    "from torch.utils.tensorboard import SummaryWriter\n",
    "\n",
    "import matplotlib.pyplot as plt\n",
    "\n",
    "import warnings\n",
    "warnings.filterwarnings('ignore')"
   ]
  },
  {
   "cell_type": "code",
   "execution_count": 2,
   "metadata": {},
   "outputs": [],
   "source": [
    "# Our modules\n",
    "#import sys\n",
    "#sys.path.append('.')\n",
    "\n",
    "from vae import configs, data_utils, train\n",
    "from vae.model import VAE"
   ]
  },
  {
   "cell_type": "code",
   "execution_count": 3,
   "metadata": {},
   "outputs": [
    {
     "data": {
      "text/plain": [
       "'1.7.1'"
      ]
     },
     "execution_count": 3,
     "metadata": {},
     "output_type": "execute_result"
    }
   ],
   "source": [
    "torch.__version__"
   ]
  },
  {
   "cell_type": "code",
   "execution_count": 4,
   "metadata": {},
   "outputs": [
    {
     "name": "stdout",
     "output_type": "stream",
     "text": [
      "01:00.0 3D controller: NVIDIA Corporation GM107M [GeForce GTX 950M] (rev a2)\r\n"
     ]
    }
   ],
   "source": [
    "!lspci | grep -i nvidia"
   ]
  },
  {
   "cell_type": "markdown",
   "metadata": {},
   "source": [
    "!sudo apt install nvidia-cuda-toolkit"
   ]
  },
  {
   "cell_type": "code",
   "execution_count": 5,
   "metadata": {},
   "outputs": [
    {
     "data": {
      "text/plain": [
       "True"
      ]
     },
     "execution_count": 5,
     "metadata": {},
     "output_type": "execute_result"
    }
   ],
   "source": [
    "torch.cuda.is_available()"
   ]
  },
  {
   "cell_type": "code",
   "execution_count": 6,
   "metadata": {},
   "outputs": [
    {
     "data": {
      "text/plain": [
       "True"
      ]
     },
     "execution_count": 6,
     "metadata": {},
     "output_type": "execute_result"
    }
   ],
   "source": [
    "torch.backends.cudnn.enabled"
   ]
  },
  {
   "cell_type": "code",
   "execution_count": 7,
   "metadata": {},
   "outputs": [
    {
     "name": "stdout",
     "output_type": "stream",
     "text": [
      "Wed Dec 16 11:12:09 2020       \r\n",
      "+-----------------------------------------------------------------------------+\r\n",
      "| NVIDIA-SMI 455.45.01    Driver Version: 455.45.01    CUDA Version: 11.1     |\r\n",
      "|-------------------------------+----------------------+----------------------+\r\n",
      "| GPU  Name        Persistence-M| Bus-Id        Disp.A | Volatile Uncorr. ECC |\r\n",
      "| Fan  Temp  Perf  Pwr:Usage/Cap|         Memory-Usage | GPU-Util  Compute M. |\r\n",
      "|                               |                      |               MIG M. |\r\n",
      "|===============================+======================+======================|\r\n",
      "|   0  GeForce GTX 950M    On   | 00000000:01:00.0 Off |                  N/A |\r\n",
      "| N/A   42C    P0    N/A /  N/A |    354MiB /  4046MiB |     24%      Default |\r\n",
      "|                               |                      |                  N/A |\r\n",
      "+-------------------------------+----------------------+----------------------+\r\n",
      "                                                                               \r\n",
      "+-----------------------------------------------------------------------------+\r\n",
      "| Processes:                                                                  |\r\n",
      "|  GPU   GI   CI        PID   Type   Process name                  GPU Memory |\r\n",
      "|        ID   ID                                                   Usage      |\r\n",
      "|=============================================================================|\r\n",
      "|    0   N/A  N/A      1118      G   /usr/lib/xorg/Xorg                 65MiB |\r\n",
      "|    0   N/A  N/A      1755      G   /usr/lib/xorg/Xorg                176MiB |\r\n",
      "|    0   N/A  N/A      1930      G   /usr/bin/gnome-shell               54MiB |\r\n",
      "|    0   N/A  N/A      5639      G   ...AAAAAAAAA= --shared-files       40MiB |\r\n",
      "|    0   N/A  N/A      7178      G   /usr/lib/firefox/firefox            1MiB |\r\n",
      "+-----------------------------------------------------------------------------+\r\n"
     ]
    }
   ],
   "source": [
    "!nvidia-smi"
   ]
  },
  {
   "cell_type": "markdown",
   "metadata": {},
   "source": [
    "## 1. Preprocessing data\n",
    "\n",
    "In this part we'll create and store as .npy the audio representation we'd want to use as the input of our model.\n",
    "The .npy files will be stored in data/ directory in our module and the name of the files will be the same as the audio files names."
   ]
  },
  {
   "cell_type": "code",
   "execution_count": null,
   "metadata": {},
   "outputs": [],
   "source": [
    "dataset_path = '/media/carlos/FILES/INVESTIGACION/Datasets/London Philarmonic Orchestra/'\n",
    "store_inputs(dataset_path)"
   ]
  },
  {
   "cell_type": "markdown",
   "metadata": {},
   "source": [
    "## 2. Create Dataloader from London Philarmonic Orchestra Dataset"
   ]
  },
  {
   "cell_type": "code",
   "execution_count": 8,
   "metadata": {},
   "outputs": [],
   "source": [
    "# Dataloader\n",
    "train_dataset = data_utils.AudioDataset(data_path=configs.ParamsConfig.DATA_PATH)\n",
    "train_dataloader = DataLoader(train_dataset, batch_size=configs.ParamsConfig.BATCH_SIZE, num_workers=0)\n",
    "\n",
    "val_dataset = data_utils.AudioDataset(data_path=configs.ParamsConfig.DATA_PATH)\n",
    "val_dataloader = DataLoader(val_dataset, batch_size=configs.ParamsConfig.BATCH_SIZE, num_workers=0)"
   ]
  },
  {
   "cell_type": "code",
   "execution_count": 9,
   "metadata": {},
   "outputs": [
    {
     "name": "stdout",
     "output_type": "stream",
     "text": [
      "Number of files in the training dataset: 755\n",
      "Number of files in the training dataset: 755\n",
      "<class 'dict'>\n",
      "['flute_Fs5_05_mezzo-forte_normal']\n",
      "torch.Size([1, 1, 190, 70])\n"
     ]
    }
   ],
   "source": [
    "print('Number of files in the training dataset:', len(train_dataset))\n",
    "print('Number of files in the training dataset:', len(val_dataset))\n",
    "\n",
    "# Get a sample of the dataset\n",
    "dataiter = iter(train_dataloader)\n",
    "data = dataiter.next()\n",
    "print(type(data))\n",
    "print(data['file'])\n",
    "print(data['input'].shape)"
   ]
  },
  {
   "cell_type": "code",
   "execution_count": 36,
   "metadata": {},
   "outputs": [
    {
     "data": {
      "text/plain": [
       "{'dataset': <vae.data_utils.AudioDataset at 0x7f9221a90070>,\n",
       " 'num_workers': 0,\n",
       " 'prefetch_factor': 2,\n",
       " 'pin_memory': False,\n",
       " 'timeout': 0,\n",
       " 'worker_init_fn': None,\n",
       " '_DataLoader__multiprocessing_context': None,\n",
       " '_dataset_kind': 0,\n",
       " 'batch_size': 1,\n",
       " 'drop_last': False,\n",
       " 'sampler': <torch.utils.data.sampler.SequentialSampler at 0x7f9223959a30>,\n",
       " 'batch_sampler': <torch.utils.data.sampler.BatchSampler at 0x7f92239591c0>,\n",
       " 'generator': None,\n",
       " 'collate_fn': <function torch.utils.data._utils.collate.default_collate(batch)>,\n",
       " 'persistent_workers': False,\n",
       " '_DataLoader__initialized': True,\n",
       " '_IterableDataset_len_called': None,\n",
       " '_iterator': None}"
      ]
     },
     "execution_count": 36,
     "metadata": {},
     "output_type": "execute_result"
    }
   ],
   "source": [
    "train_dataloader.__dict__"
   ]
  },
  {
   "cell_type": "markdown",
   "metadata": {},
   "source": [
    "We can plot one sample of the dataset:"
   ]
  },
  {
   "cell_type": "code",
   "execution_count": 10,
   "metadata": {},
   "outputs": [
    {
     "data": {
      "image/png": "[encoded data removed]",
      "text/plain": [
       "<Figure size 432x288 with 1 Axes>"
      ]
     },
     "metadata": {
      "needs_background": "light"
     },
     "output_type": "display_data"
    }
   ],
   "source": [
    "fig, ax = plt.subplots()\n",
    "ax.imshow(data['input'][0, 0,...], cmap='viridis', interpolation='none', aspect=0.5, origin='lower')\n",
    "ax.set_title(data['file'])\n",
    "plt.show()"
   ]
  },
  {
   "cell_type": "markdown",
   "metadata": {},
   "source": [
    "## 3. VAE Model\n",
    "\n",
    "* How good is our reconstruction?\n",
    "* Is the model architecture (kernels, layers...) good?\n",
    "* How many latent dimensions do we need? "
   ]
  },
  {
   "cell_type": "markdown",
   "metadata": {},
   "source": [
    "<img src=\"https://theaisummer.com/assets/img/posts/Autoencoder/vae.png\" width=\"500\">"
   ]
  },
  {
   "cell_type": "markdown",
   "metadata": {},
   "source": [
    "<img src=\"https://acids-ircam.github.io/variational-timbre/figures/logo.png\" width=\"500\">"
   ]
  },
  {
   "cell_type": "code",
   "execution_count": 11,
   "metadata": {},
   "outputs": [
    {
     "name": "stdout",
     "output_type": "stream",
     "text": [
      "Cuda available: True\n",
      "Selected device: cuda\n",
      "Number of parameters: 276103\n",
      "VAE(\n",
      "  (encoder): Encoder(\n",
      "    (conv1): Conv2d(1, 64, kernel_size=(7, 5), stride=(3, 1), padding=(1, 2))\n",
      "    (conv2): Conv2d(64, 128, kernel_size=(5, 3), stride=(3, 1), padding=(1, 1))\n",
      "    (pool1): AdaptiveMaxPool2d(output_size=(20, 1))\n",
      "    (fc_mu): Linear(in_features=2560, out_features=3, bias=True)\n",
      "    (fc_logvar): Linear(in_features=2560, out_features=3, bias=True)\n",
      "  )\n",
      "  (decoder): Decoder(\n",
      "    (fc): Linear(in_features=3, out_features=2560, bias=True)\n",
      "    (conv2): ConvTranspose2d(128, 64, kernel_size=(5, 3), stride=(3, 1), padding=(2, 1), dilation=(2, 1))\n",
      "    (conv1): ConvTranspose2d(64, 1, kernel_size=(7, 5), stride=(3, 1), padding=(3, 2), dilation=(2, 1))\n",
      "  )\n",
      ")\n"
     ]
    }
   ],
   "source": [
    "# Model and optimizer\n",
    "device = torch.device('cuda' if torch.cuda.is_available() else 'cpu')\n",
    "\n",
    "print('Cuda available:', torch.cuda.is_available())\n",
    "print('Selected device:', device)\n",
    "\n",
    "model = VAE().to(device)\n",
    "num_params = sum(p.numel() for p in model.parameters() if p.requires_grad)\n",
    "print('Number of parameters: %d' % num_params)\n",
    "print(model)\n",
    "\n",
    "optimizer = optim.Adam(model.parameters(), lr=configs.ParamsConfig.LEARNING_RATE)\n",
    "criterion = nn.BCELoss(reduction='sum')  # reconstruction loss"
   ]
  },
  {
   "cell_type": "code",
   "execution_count": 12,
   "metadata": {},
   "outputs": [
    {
     "name": "stdout",
     "output_type": "stream",
     "text": [
      "----------------------------------------------------------------\n",
      "        Layer (type)               Output Shape         Param #\n",
      "================================================================\n",
      "            Conv2d-1           [-1, 64, 62, 70]           2,304\n",
      "            Conv2d-2          [-1, 128, 20, 70]         123,008\n",
      " AdaptiveMaxPool2d-3           [-1, 128, 20, 1]               0\n",
      "            Linear-4                    [-1, 3]           7,683\n",
      "            Linear-5                    [-1, 3]           7,683\n",
      "           Encoder-6         [[-1, 3], [-1, 3]]               0\n",
      "            Linear-7                 [-1, 2560]          10,240\n",
      "   ConvTranspose2d-8           [-1, 64, 62, 70]         122,944\n",
      "   ConvTranspose2d-9           [-1, 1, 190, 70]           2,241\n",
      "          Decoder-10           [-1, 1, 190, 70]               0\n",
      "================================================================\n",
      "Total params: 276,103\n",
      "Trainable params: 276,103\n",
      "Non-trainable params: 0\n",
      "----------------------------------------------------------------\n",
      "Input size (MB): 0.05\n",
      "Forward/backward pass size (MB): 5.85\n",
      "Params size (MB): 1.05\n",
      "Estimated Total Size (MB): 6.95\n",
      "----------------------------------------------------------------\n"
     ]
    }
   ],
   "source": [
    "from torchsummary import summary\n",
    "\n",
    "channels = 1\n",
    "h = data['input'].shape[2]\n",
    "w = data['input'].shape[3]\n",
    "\n",
    "summary(model, input_size=(channels, h, w))"
   ]
  },
  {
   "cell_type": "markdown",
   "metadata": {},
   "source": [
    "<div>\n",
    "    \n",
    "<button type=\"button\" class=\"btn btn-primary\" style=\"float:left; background-color:#a273f9; border:0\"><a href=\"#top\" style=\"color:white; text-decoration: none\">⇦ Back to Top</a></button>\n",
    "    \n",
    "</div>"
   ]
  },
  {
   "cell_type": "markdown",
   "metadata": {},
   "source": [
    "## 4. RUN TRAINING<a name=\"training\"></a>"
   ]
  },
  {
   "cell_type": "code",
   "execution_count": 13,
   "metadata": {},
   "outputs": [
    {
     "name": "stderr",
     "output_type": "stream",
     "text": [
      "  0%|          | 2/755 [00:00<01:05, 11.54it/s]"
     ]
    },
    {
     "name": "stdout",
     "output_type": "stream",
     "text": [
      "Epoch 1 of 100\n"
     ]
    },
    {
     "name": "stderr",
     "output_type": "stream",
     "text": [
      "100%|██████████| 755/755 [02:07<00:00,  5.93it/s]\n",
      "100%|██████████| 755/755 [01:57<00:00,  6.42it/s]\n",
      "  0%|          | 2/755 [00:00<00:57, 13.08it/s]"
     ]
    },
    {
     "name": "stdout",
     "output_type": "stream",
     "text": [
      "Train Loss: 3359.8819\n",
      "Train KLD: 0.0155\n",
      "Val Loss: 4048.3855\n",
      "Val KLD: 0.0156\n",
      "Epoch 2 of 100\n"
     ]
    },
    {
     "name": "stderr",
     "output_type": "stream",
     "text": [
      "100%|██████████| 755/755 [02:07<00:00,  5.93it/s]\n",
      "100%|██████████| 755/755 [01:56<00:00,  6.50it/s]\n",
      "  0%|          | 0/755 [00:00<?, ?it/s]"
     ]
    },
    {
     "name": "stdout",
     "output_type": "stream",
     "text": [
      "Train Loss: 2917.6321\n",
      "Train KLD: 0.0124\n",
      "Val Loss: 3560.5391\n",
      "Val KLD: 0.0124\n",
      "Epoch 3 of 100\n"
     ]
    },
    {
     "name": "stderr",
     "output_type": "stream",
     "text": [
      "100%|██████████| 755/755 [02:06<00:00,  5.99it/s]\n",
      "100%|██████████| 755/755 [01:56<00:00,  6.49it/s]\n",
      "  0%|          | 2/755 [00:00<00:56, 13.29it/s]"
     ]
    },
    {
     "name": "stdout",
     "output_type": "stream",
     "text": [
      "Train Loss: 2824.1891\n",
      "Train KLD: 0.0101\n",
      "Val Loss: 1724.7931\n",
      "Val KLD: 0.0101\n",
      "Epoch 4 of 100\n"
     ]
    },
    {
     "name": "stderr",
     "output_type": "stream",
     "text": [
      "100%|██████████| 755/755 [02:05<00:00,  6.00it/s]\n",
      "100%|██████████| 755/755 [01:56<00:00,  6.49it/s]\n",
      "  0%|          | 2/755 [00:00<00:57, 13.18it/s]"
     ]
    },
    {
     "name": "stdout",
     "output_type": "stream",
     "text": [
      "Train Loss: 1243.1010\n",
      "Train KLD: 0.0126\n",
      "Val Loss: 975.6199\n",
      "Val KLD: 0.0126\n",
      "Epoch 5 of 100\n"
     ]
    },
    {
     "name": "stderr",
     "output_type": "stream",
     "text": [
      "100%|██████████| 755/755 [02:05<00:00,  6.00it/s]\n",
      "100%|██████████| 755/755 [01:56<00:00,  6.47it/s]\n"
     ]
    },
    {
     "name": "stdout",
     "output_type": "stream",
     "text": [
      "Train Loss: -191.8939\n",
      "Train KLD: 0.0112\n",
      "Val Loss: 2128.0143\n",
      "Val KLD: 0.0112\n"
     ]
    },
    {
     "name": "stderr",
     "output_type": "stream",
     "text": [
      "  0%|          | 2/755 [00:00<00:57, 13.14it/s]"
     ]
    },
    {
     "name": "stdout",
     "output_type": "stream",
     "text": [
      "Epoch 6 of 100\n"
     ]
    },
    {
     "name": "stderr",
     "output_type": "stream",
     "text": [
      "100%|██████████| 755/755 [02:05<00:00,  6.02it/s]\n",
      "100%|██████████| 755/755 [01:56<00:00,  6.50it/s]\n"
     ]
    },
    {
     "name": "stdout",
     "output_type": "stream",
     "text": [
      "Train Loss: -446.1138\n",
      "Train KLD: 0.0127\n",
      "Val Loss: -338.2962\n",
      "Val KLD: 0.0127\n"
     ]
    },
    {
     "name": "stderr",
     "output_type": "stream",
     "text": [
      "  0%|          | 2/755 [00:00<00:57, 13.17it/s]"
     ]
    },
    {
     "name": "stdout",
     "output_type": "stream",
     "text": [
      "Epoch 7 of 100\n"
     ]
    },
    {
     "name": "stderr",
     "output_type": "stream",
     "text": [
      "100%|██████████| 755/755 [02:06<00:00,  5.99it/s]\n",
      "100%|██████████| 755/755 [01:56<00:00,  6.50it/s]\n",
      "  0%|          | 2/755 [00:00<00:56, 13.26it/s]"
     ]
    },
    {
     "name": "stdout",
     "output_type": "stream",
     "text": [
      "Train Loss: 424.7183\n",
      "Train KLD: 0.0089\n",
      "Val Loss: -378.1842\n",
      "Val KLD: 0.0089\n",
      "Epoch 8 of 100\n"
     ]
    },
    {
     "name": "stderr",
     "output_type": "stream",
     "text": [
      "100%|██████████| 755/755 [02:05<00:00,  6.01it/s]\n",
      "100%|██████████| 755/755 [01:56<00:00,  6.51it/s]\n"
     ]
    },
    {
     "name": "stdout",
     "output_type": "stream",
     "text": [
      "Train Loss: -1840.1033\n",
      "Train KLD: 0.0117\n",
      "Val Loss: 2741.1438\n",
      "Val KLD: 0.0117\n"
     ]
    },
    {
     "name": "stderr",
     "output_type": "stream",
     "text": [
      "  0%|          | 2/755 [00:00<00:57, 13.00it/s]"
     ]
    },
    {
     "name": "stdout",
     "output_type": "stream",
     "text": [
      "Epoch 9 of 100\n"
     ]
    },
    {
     "name": "stderr",
     "output_type": "stream",
     "text": [
      "100%|██████████| 755/755 [02:05<00:00,  6.00it/s]\n",
      "100%|██████████| 755/755 [01:56<00:00,  6.46it/s]\n",
      "  0%|          | 2/755 [00:00<00:56, 13.29it/s]"
     ]
    },
    {
     "name": "stdout",
     "output_type": "stream",
     "text": [
      "Train Loss: -521.0966\n",
      "Train KLD: 0.0132\n",
      "Val Loss: -141.0464\n",
      "Val KLD: 0.0133\n",
      "Epoch 10 of 100\n"
     ]
    },
    {
     "name": "stderr",
     "output_type": "stream",
     "text": [
      "100%|██████████| 755/755 [02:05<00:00,  6.02it/s]\n",
      "100%|██████████| 755/755 [01:56<00:00,  6.50it/s]\n"
     ]
    },
    {
     "name": "stdout",
     "output_type": "stream",
     "text": [
      "Train Loss: -2025.1533\n",
      "Train KLD: 0.0120\n",
      "Val Loss: 2778.2029\n",
      "Val KLD: 0.0120\n"
     ]
    },
    {
     "name": "stderr",
     "output_type": "stream",
     "text": [
      "  0%|          | 2/755 [00:00<00:58, 12.94it/s]"
     ]
    },
    {
     "name": "stdout",
     "output_type": "stream",
     "text": [
      "Epoch 11 of 100\n"
     ]
    },
    {
     "name": "stderr",
     "output_type": "stream",
     "text": [
      "100%|██████████| 755/755 [02:05<00:00,  6.00it/s]\n",
      "100%|██████████| 755/755 [01:56<00:00,  6.50it/s]\n"
     ]
    },
    {
     "name": "stdout",
     "output_type": "stream",
     "text": [
      "Train Loss: -27.9891\n",
      "Train KLD: 0.0136\n",
      "Val Loss: 3380.9225\n",
      "Val KLD: 0.0136\n"
     ]
    },
    {
     "name": "stderr",
     "output_type": "stream",
     "text": [
      "  0%|          | 2/755 [00:00<00:54, 13.82it/s]"
     ]
    },
    {
     "name": "stdout",
     "output_type": "stream",
     "text": [
      "Epoch 12 of 100\n"
     ]
    },
    {
     "name": "stderr",
     "output_type": "stream",
     "text": [
      "100%|██████████| 755/755 [02:05<00:00,  6.01it/s]\n",
      "100%|██████████| 755/755 [01:57<00:00,  6.41it/s]\n"
     ]
    },
    {
     "name": "stdout",
     "output_type": "stream",
     "text": [
      "Train Loss: -634.9070\n",
      "Train KLD: 0.0187\n",
      "Val Loss: -671.4496\n",
      "Val KLD: 0.0187\n"
     ]
    },
    {
     "name": "stderr",
     "output_type": "stream",
     "text": [
      "  0%|          | 2/755 [00:00<00:57, 13.00it/s]"
     ]
    },
    {
     "name": "stdout",
     "output_type": "stream",
     "text": [
      "Epoch 13 of 100\n"
     ]
    },
    {
     "name": "stderr",
     "output_type": "stream",
     "text": [
      "100%|██████████| 755/755 [02:07<00:00,  5.93it/s]\n",
      "100%|██████████| 755/755 [01:57<00:00,  6.40it/s]\n",
      "  0%|          | 2/755 [00:00<00:54, 13.82it/s]"
     ]
    },
    {
     "name": "stdout",
     "output_type": "stream",
     "text": [
      "Train Loss: -2028.9036\n",
      "Train KLD: 0.0160\n",
      "Val Loss: -693.6759\n",
      "Val KLD: 0.0160\n",
      "Epoch 14 of 100\n"
     ]
    },
    {
     "name": "stderr",
     "output_type": "stream",
     "text": [
      "100%|██████████| 755/755 [02:05<00:00,  6.01it/s]\n",
      "100%|██████████| 755/755 [01:56<00:00,  6.49it/s]\n",
      "  0%|          | 2/755 [00:00<00:56, 13.32it/s]"
     ]
    },
    {
     "name": "stdout",
     "output_type": "stream",
     "text": [
      "Train Loss: -833.5247\n",
      "Train KLD: 0.0175\n",
      "Val Loss: -1425.3391\n",
      "Val KLD: 0.0176\n",
      "Epoch 15 of 100\n"
     ]
    },
    {
     "name": "stderr",
     "output_type": "stream",
     "text": [
      "100%|██████████| 755/755 [02:05<00:00,  6.00it/s]\n",
      "100%|██████████| 755/755 [01:56<00:00,  6.50it/s]\n",
      "  0%|          | 2/755 [00:00<00:54, 13.81it/s]"
     ]
    },
    {
     "name": "stdout",
     "output_type": "stream",
     "text": [
      "Train Loss: -2348.7128\n",
      "Train KLD: 0.0155\n",
      "Val Loss: 562.9654\n",
      "Val KLD: 0.0155\n",
      "Epoch 16 of 100\n"
     ]
    },
    {
     "name": "stderr",
     "output_type": "stream",
     "text": [
      "100%|██████████| 755/755 [02:05<00:00,  6.01it/s]\n",
      "100%|██████████| 755/755 [01:56<00:00,  6.50it/s]\n",
      "  0%|          | 2/755 [00:00<00:56, 13.38it/s]"
     ]
    },
    {
     "name": "stdout",
     "output_type": "stream",
     "text": [
      "Train Loss: -2131.7103\n",
      "Train KLD: 0.0149\n",
      "Val Loss: -2462.7192\n",
      "Val KLD: 0.0149\n",
      "Epoch 17 of 100\n"
     ]
    },
    {
     "name": "stderr",
     "output_type": "stream",
     "text": [
      "100%|██████████| 755/755 [02:06<00:00,  5.99it/s]\n",
      "100%|██████████| 755/755 [01:56<00:00,  6.50it/s]\n",
      "  0%|          | 2/755 [00:00<00:54, 13.82it/s]"
     ]
    },
    {
     "name": "stdout",
     "output_type": "stream",
     "text": [
      "Train Loss: -2830.7400\n",
      "Train KLD: 0.0155\n",
      "Val Loss: -1467.8811\n",
      "Val KLD: 0.0155\n",
      "Epoch 18 of 100\n"
     ]
    },
    {
     "name": "stderr",
     "output_type": "stream",
     "text": [
      "100%|██████████| 755/755 [02:05<00:00,  6.02it/s]\n",
      "100%|██████████| 755/755 [01:56<00:00,  6.51it/s]\n",
      "  0%|          | 2/755 [00:00<00:55, 13.53it/s]"
     ]
    },
    {
     "name": "stdout",
     "output_type": "stream",
     "text": [
      "Train Loss: -2522.3910\n",
      "Train KLD: 0.0170\n",
      "Val Loss: -2150.3924\n",
      "Val KLD: 0.0170\n",
      "Epoch 19 of 100\n"
     ]
    },
    {
     "name": "stderr",
     "output_type": "stream",
     "text": [
      "100%|██████████| 755/755 [02:05<00:00,  6.00it/s]\n",
      "100%|██████████| 755/755 [01:56<00:00,  6.49it/s]\n",
      "  0%|          | 2/755 [00:00<00:54, 13.69it/s]"
     ]
    },
    {
     "name": "stdout",
     "output_type": "stream",
     "text": [
      "Train Loss: -3041.3829\n",
      "Train KLD: 0.0168\n",
      "Val Loss: 549.2772\n",
      "Val KLD: 0.0168\n",
      "Epoch 20 of 100\n"
     ]
    },
    {
     "name": "stderr",
     "output_type": "stream",
     "text": [
      "100%|██████████| 755/755 [02:05<00:00,  6.02it/s]\n",
      "100%|██████████| 755/755 [01:56<00:00,  6.51it/s]\n",
      "  0%|          | 2/755 [00:00<00:55, 13.47it/s]"
     ]
    },
    {
     "name": "stdout",
     "output_type": "stream",
     "text": [
      "Train Loss: -2210.6599\n",
      "Train KLD: 0.0145\n",
      "Val Loss: -2429.6183\n",
      "Val KLD: 0.0145\n",
      "Epoch 21 of 100\n"
     ]
    },
    {
     "name": "stderr",
     "output_type": "stream",
     "text": [
      "100%|██████████| 755/755 [02:05<00:00,  6.00it/s]\n",
      "100%|██████████| 755/755 [01:56<00:00,  6.49it/s]\n",
      "  0%|          | 2/755 [00:00<00:54, 13.80it/s]"
     ]
    },
    {
     "name": "stdout",
     "output_type": "stream",
     "text": [
      "Train Loss: -3031.6523\n",
      "Train KLD: 0.0140\n",
      "Val Loss: -72.7664\n",
      "Val KLD: 0.0140\n",
      "Epoch 22 of 100\n"
     ]
    },
    {
     "name": "stderr",
     "output_type": "stream",
     "text": [
      "100%|██████████| 755/755 [02:05<00:00,  6.02it/s]\n",
      "100%|██████████| 755/755 [01:56<00:00,  6.51it/s]\n",
      "  0%|          | 2/755 [00:00<00:56, 13.37it/s]"
     ]
    },
    {
     "name": "stdout",
     "output_type": "stream",
     "text": [
      "Train Loss: -2942.7338\n",
      "Train KLD: 0.0154\n",
      "Val Loss: -2535.0639\n",
      "Val KLD: 0.0154\n",
      "Epoch 23 of 100\n"
     ]
    },
    {
     "name": "stderr",
     "output_type": "stream",
     "text": [
      "100%|██████████| 755/755 [02:05<00:00,  6.00it/s]\n",
      "100%|██████████| 755/755 [01:56<00:00,  6.49it/s]\n",
      "  0%|          | 2/755 [00:00<00:54, 13.82it/s]"
     ]
    },
    {
     "name": "stdout",
     "output_type": "stream",
     "text": [
      "Train Loss: -3206.4555\n",
      "Train KLD: 0.0158\n",
      "Val Loss: -2405.1020\n",
      "Val KLD: 0.0158\n",
      "Epoch 24 of 100\n"
     ]
    },
    {
     "name": "stderr",
     "output_type": "stream",
     "text": [
      " 51%|█████     | 385/755 [01:04<01:01,  5.98it/s]\n"
     ]
    },
    {
     "ename": "KeyboardInterrupt",
     "evalue": "",
     "output_type": "error",
     "traceback": [
      "\u001b[0;31m---------------------------------------------------------------------------\u001b[0m",
      "\u001b[0;31mKeyboardInterrupt\u001b[0m                         Traceback (most recent call last)",
      "\u001b[0;32m<ipython-input-13-44c83b813afb>\u001b[0m in \u001b[0;36m<module>\u001b[0;34m\u001b[0m\n\u001b[1;32m     11\u001b[0m \u001b[0;32mfor\u001b[0m \u001b[0mepoch\u001b[0m \u001b[0;32min\u001b[0m \u001b[0mrange\u001b[0m\u001b[0;34m(\u001b[0m\u001b[0mconfigs\u001b[0m\u001b[0;34m.\u001b[0m\u001b[0mParamsConfig\u001b[0m\u001b[0;34m.\u001b[0m\u001b[0mNUM_EPOCHS\u001b[0m\u001b[0;34m)\u001b[0m\u001b[0;34m:\u001b[0m\u001b[0;34m\u001b[0m\u001b[0;34m\u001b[0m\u001b[0m\n\u001b[1;32m     12\u001b[0m     \u001b[0mprint\u001b[0m\u001b[0;34m(\u001b[0m\u001b[0;34mf\"Epoch {epoch+1} of {configs.ParamsConfig.NUM_EPOCHS}\"\u001b[0m\u001b[0;34m)\u001b[0m\u001b[0;34m\u001b[0m\u001b[0;34m\u001b[0m\u001b[0m\n\u001b[0;32m---> 13\u001b[0;31m     \u001b[0mtrain_epoch_loss\u001b[0m\u001b[0;34m,\u001b[0m \u001b[0mtrain_epoch_kld\u001b[0m \u001b[0;34m=\u001b[0m \u001b[0mtrain\u001b[0m\u001b[0;34m.\u001b[0m\u001b[0mfit\u001b[0m\u001b[0;34m(\u001b[0m\u001b[0mmodel\u001b[0m\u001b[0;34m,\u001b[0m \u001b[0mtrain_dataloader\u001b[0m\u001b[0;34m,\u001b[0m \u001b[0mdevice\u001b[0m\u001b[0;34m,\u001b[0m \u001b[0moptimizer\u001b[0m\u001b[0;34m,\u001b[0m \u001b[0mcriterion\u001b[0m\u001b[0;34m)\u001b[0m\u001b[0;34m\u001b[0m\u001b[0;34m\u001b[0m\u001b[0m\n\u001b[0m\u001b[1;32m     14\u001b[0m     \u001b[0mval_epoch_loss\u001b[0m\u001b[0;34m,\u001b[0m \u001b[0mval_epoch_kld\u001b[0m \u001b[0;34m=\u001b[0m \u001b[0mtrain\u001b[0m\u001b[0;34m.\u001b[0m\u001b[0mvalidate\u001b[0m\u001b[0;34m(\u001b[0m\u001b[0mmodel\u001b[0m\u001b[0;34m,\u001b[0m \u001b[0mval_dataloader\u001b[0m\u001b[0;34m,\u001b[0m \u001b[0mdevice\u001b[0m\u001b[0;34m,\u001b[0m \u001b[0mcriterion\u001b[0m\u001b[0;34m)\u001b[0m\u001b[0;34m\u001b[0m\u001b[0;34m\u001b[0m\u001b[0m\n\u001b[1;32m     15\u001b[0m \u001b[0;34m\u001b[0m\u001b[0m\n",
      "\u001b[0;32m/media/carlos/FILES/GitHub/timbre-vae/vae/train.py\u001b[0m in \u001b[0;36mfit\u001b[0;34m(model, dataloader, device, optimizer, criterion)\u001b[0m\n\u001b[1;32m     19\u001b[0m         \u001b[0mtotal_loss\u001b[0m\u001b[0;34m,\u001b[0m \u001b[0mkld\u001b[0m \u001b[0;34m=\u001b[0m \u001b[0mloss\u001b[0m\u001b[0;34m.\u001b[0m\u001b[0mloss_function\u001b[0m\u001b[0;34m(\u001b[0m\u001b[0mbce_loss\u001b[0m\u001b[0;34m,\u001b[0m \u001b[0mmu\u001b[0m\u001b[0;34m,\u001b[0m \u001b[0mlogvar\u001b[0m\u001b[0;34m)\u001b[0m\u001b[0;34m\u001b[0m\u001b[0;34m\u001b[0m\u001b[0m\n\u001b[1;32m     20\u001b[0m \u001b[0;34m\u001b[0m\u001b[0m\n\u001b[0;32m---> 21\u001b[0;31m         \u001b[0mkld\u001b[0m \u001b[0;34m+=\u001b[0m \u001b[0mkld\u001b[0m\u001b[0;34m.\u001b[0m\u001b[0mitem\u001b[0m\u001b[0;34m(\u001b[0m\u001b[0;34m)\u001b[0m\u001b[0;34m\u001b[0m\u001b[0;34m\u001b[0m\u001b[0m\n\u001b[0m\u001b[1;32m     22\u001b[0m \u001b[0;34m\u001b[0m\u001b[0m\n\u001b[1;32m     23\u001b[0m         \u001b[0mrunning_loss\u001b[0m \u001b[0;34m+=\u001b[0m \u001b[0mtotal_loss\u001b[0m\u001b[0;34m.\u001b[0m\u001b[0mitem\u001b[0m\u001b[0;34m(\u001b[0m\u001b[0;34m)\u001b[0m\u001b[0;34m\u001b[0m\u001b[0;34m\u001b[0m\u001b[0m\n",
      "\u001b[0;31mKeyboardInterrupt\u001b[0m: "
     ]
    }
   ],
   "source": [
    "train_loss = []\n",
    "val_loss = []\n",
    "train_kld = []\n",
    "val_kld = []\n",
    "\n",
    "if not os.path.exists(configs.ParamsConfig.TRAINED_MODELS_PATH):\n",
    "    os.mkdir(configs.ParamsConfig.TRAINED_MODELS_PATH)\n",
    "\n",
    "writer = SummaryWriter()\n",
    "\n",
    "for epoch in range(configs.ParamsConfig.NUM_EPOCHS):\n",
    "    print(f\"Epoch {epoch+1} of {configs.ParamsConfig.NUM_EPOCHS}\")\n",
    "    train_epoch_loss, train_epoch_kld = train.fit(model, train_dataloader, device, optimizer, criterion)\n",
    "    val_epoch_loss, val_epoch_kld = train.validate(model, val_dataloader, device, criterion)\n",
    "    \n",
    "    train_loss.append(train_epoch_loss)\n",
    "    val_loss.append(val_epoch_loss)\n",
    "    train_kld.append(train_epoch_kld)\n",
    "    val_kld.append(val_epoch_kld)\n",
    "    \n",
    "    # Tensorboard plots\n",
    "    writer.add_scalars('Loss', {\n",
    "                                'train': train_epoch_loss,\n",
    "                                'val': val_epoch_loss\n",
    "                                },\n",
    "                       epoch)\n",
    "    writer.add_scalar('Loss/train', train_epoch_kld, epoch)\n",
    "    writer.add_scalar('Loss/train', val_epoch_kld, epoch)\n",
    "    \n",
    "    \n",
    "    print(f\"Train Loss: {train_epoch_loss:.4f}\")\n",
    "    print(f\"Train KLD: {train_epoch_kld:.4f}\")\n",
    "    print(f\"Val Loss: {val_epoch_loss:.4f}\")\n",
    "    print(f\"Val KLD: {val_epoch_kld:.4f}\")\n",
    "    \n",
    "    #save trained model every 5 epochs\n",
    "    if epoch % 1 == 0:\n",
    "        torch.save(model.state_dict(), \n",
    "                   os.path.join(configs.ParamsConfig.TRAINED_MODELS_PATH, 'saved_model_' + str(epoch) + \"epochs.bin\"))"
   ]
  },
  {
   "cell_type": "markdown",
   "metadata": {},
   "source": [
    "## 5. VISUALIZING LATENT SPACE<a name=\"visual\"></a>"
   ]
  },
  {
   "cell_type": "markdown",
   "metadata": {},
   "source": [
    "### 2 Latent Dimensions"
   ]
  },
  {
   "cell_type": "code",
   "execution_count": 49,
   "metadata": {},
   "outputs": [
    {
     "data": {
      "image/png": "[encoded data removed]",
      "text/plain": [
       "<Figure size 576x432 with 1 Axes>"
      ]
     },
     "metadata": {
      "needs_background": "light"
     },
     "output_type": "display_data"
    }
   ],
   "source": [
    "trained_epochs = \"0\" #load model trained this number of epochs\n",
    "\n",
    "\n",
    "#Model loading\n",
    "model = VAE()\n",
    "model.load_state_dict(torch.load(configs.ParamsConfig.TRAINED_MODELS_PATH + '/saved_model_' + str(trained_epochs) + \"epochs.bin\"))\n",
    "model.eval()\n",
    "\n",
    "\n",
    "def plot_latent(model, data, save_plot=True):\n",
    "    fig, ax = plt.subplots(figsize=(8, 6)) \n",
    "    plt.title('Latent space of VAE trained ' + trained_epochs + ' epochs')\n",
    "    \n",
    "    instruments = []\n",
    "    for i, x in enumerate(data):\n",
    "        z_mu, z_sigma = model.encoder(x['input']) #model.encoder(x['input'].to(device))      \n",
    "        z = z_mu.to('cpu').detach().numpy()\n",
    "        instrument = x['file'][0].split('_')[0]\n",
    "        \n",
    "        # If a point of an instrument family is already in the plot, do not add new legend\n",
    "        if instrument not in instruments:\n",
    "            label = instrument\n",
    "        else:\n",
    "            label = None\n",
    "        ax.scatter(z[:, 0], z[:, 1], \n",
    "                    color=configs.PlotsConfig.COLORS.get(instrument), \n",
    "                    cmap='tab10', \n",
    "                    alpha=0.5,\n",
    "                    label=label)\n",
    "                 \n",
    "        instruments.append(instrument)\n",
    "        ax.legend(loc='upper right', bbox_to_anchor=(1.25, 1))\n",
    "    \n",
    "    if save_plot:\n",
    "        if not os.path.exists(configs.PlotsConfig.PLOTS_PATH):\n",
    "            os.mkdir(configs.PlotsConfig.PLOTS_PATH) \n",
    "        plt.savefig(configs.PlotsConfig.PLOTS_PATH + '/latent_space_' + trained_epochs + 'epochs.png')\n",
    "            \n",
    "\n",
    "plot_latent(model, train_dataloader)"
   ]
  },
  {
   "cell_type": "code",
   "execution_count": 85,
   "metadata": {},
   "outputs": [
    {
     "ename": "KeyError",
     "evalue": "'epoch'",
     "output_type": "error",
     "traceback": [
      "\u001b[0;31m---------------------------------------------------------------------------\u001b[0m",
      "\u001b[0;31mKeyError\u001b[0m                                  Traceback (most recent call last)",
      "\u001b[0;32m~/anaconda3/lib/python3.8/site-packages/pandas/core/indexes/base.py\u001b[0m in \u001b[0;36mget_loc\u001b[0;34m(self, key, method, tolerance)\u001b[0m\n\u001b[1;32m   2894\u001b[0m             \u001b[0;32mtry\u001b[0m\u001b[0;34m:\u001b[0m\u001b[0;34m\u001b[0m\u001b[0;34m\u001b[0m\u001b[0m\n\u001b[0;32m-> 2895\u001b[0;31m                 \u001b[0;32mreturn\u001b[0m \u001b[0mself\u001b[0m\u001b[0;34m.\u001b[0m\u001b[0m_engine\u001b[0m\u001b[0;34m.\u001b[0m\u001b[0mget_loc\u001b[0m\u001b[0;34m(\u001b[0m\u001b[0mcasted_key\u001b[0m\u001b[0;34m)\u001b[0m\u001b[0;34m\u001b[0m\u001b[0;34m\u001b[0m\u001b[0m\n\u001b[0m\u001b[1;32m   2896\u001b[0m             \u001b[0;32mexcept\u001b[0m \u001b[0mKeyError\u001b[0m \u001b[0;32mas\u001b[0m \u001b[0merr\u001b[0m\u001b[0;34m:\u001b[0m\u001b[0;34m\u001b[0m\u001b[0;34m\u001b[0m\u001b[0m\n",
      "\u001b[0;32mpandas/_libs/index.pyx\u001b[0m in \u001b[0;36mpandas._libs.index.IndexEngine.get_loc\u001b[0;34m()\u001b[0m\n",
      "\u001b[0;32mpandas/_libs/index.pyx\u001b[0m in \u001b[0;36mpandas._libs.index.IndexEngine.get_loc\u001b[0;34m()\u001b[0m\n",
      "\u001b[0;32mpandas/_libs/hashtable_class_helper.pxi\u001b[0m in \u001b[0;36mpandas._libs.hashtable.PyObjectHashTable.get_item\u001b[0;34m()\u001b[0m\n",
      "\u001b[0;32mpandas/_libs/hashtable_class_helper.pxi\u001b[0m in \u001b[0;36mpandas._libs.hashtable.PyObjectHashTable.get_item\u001b[0;34m()\u001b[0m\n",
      "\u001b[0;31mKeyError\u001b[0m: 'epoch'",
      "\nThe above exception was the direct cause of the following exception:\n",
      "\u001b[0;31mKeyError\u001b[0m                                  Traceback (most recent call last)",
      "\u001b[0;32m<ipython-input-85-5514f492e94e>\u001b[0m in \u001b[0;36m<module>\u001b[0;34m\u001b[0m\n\u001b[1;32m     60\u001b[0m     \u001b[0;32mreturn\u001b[0m\u001b[0;34m\u001b[0m\u001b[0;34m\u001b[0m\u001b[0m\n\u001b[1;32m     61\u001b[0m \u001b[0;34m\u001b[0m\u001b[0m\n\u001b[0;32m---> 62\u001b[0;31m \u001b[0mmake_gif_latent_space\u001b[0m\u001b[0;34m(\u001b[0m\u001b[0mmodel\u001b[0m\u001b[0;34m,\u001b[0m \u001b[0mtrain_dataloader\u001b[0m\u001b[0;34m)\u001b[0m\u001b[0;34m\u001b[0m\u001b[0;34m\u001b[0m\u001b[0m\n\u001b[0m",
      "\u001b[0;32m<ipython-input-85-5514f492e94e>\u001b[0m in \u001b[0;36mmake_gif_latent_space\u001b[0;34m(model, data, epochs, save_plot)\u001b[0m\n\u001b[1;32m     38\u001b[0m                                           \"instrument\": instrument}, ignore_index=True)\n\u001b[1;32m     39\u001b[0m \u001b[0;34m\u001b[0m\u001b[0m\n\u001b[0;32m---> 40\u001b[0;31m     \u001b[0mdata\u001b[0m\u001b[0;34m=\u001b[0m\u001b[0mdf\u001b[0m\u001b[0;34m[\u001b[0m\u001b[0mdf\u001b[0m\u001b[0;34m[\u001b[0m\u001b[0;34m'epoch'\u001b[0m\u001b[0;34m]\u001b[0m\u001b[0;34m==\u001b[0m\u001b[0;36m0\u001b[0m\u001b[0;34m]\u001b[0m\u001b[0;34m\u001b[0m\u001b[0;34m\u001b[0m\u001b[0m\n\u001b[0m\u001b[1;32m     41\u001b[0m     \u001b[0mgraph\u001b[0m\u001b[0;34m,\u001b[0m \u001b[0;34m=\u001b[0m \u001b[0max\u001b[0m\u001b[0;34m.\u001b[0m\u001b[0mplot\u001b[0m\u001b[0;34m(\u001b[0m\u001b[0mdata\u001b[0m\u001b[0;34m.\u001b[0m\u001b[0mx\u001b[0m\u001b[0;34m,\u001b[0m \u001b[0mdata\u001b[0m\u001b[0;34m.\u001b[0m\u001b[0my\u001b[0m\u001b[0;34m)\u001b[0m\u001b[0;34m\u001b[0m\u001b[0;34m\u001b[0m\u001b[0m\n\u001b[1;32m     42\u001b[0m \u001b[0;34m\u001b[0m\u001b[0m\n",
      "\u001b[0;32m~/anaconda3/lib/python3.8/site-packages/pandas/core/frame.py\u001b[0m in \u001b[0;36m__getitem__\u001b[0;34m(self, key)\u001b[0m\n\u001b[1;32m   2900\u001b[0m             \u001b[0;32mif\u001b[0m \u001b[0mself\u001b[0m\u001b[0;34m.\u001b[0m\u001b[0mcolumns\u001b[0m\u001b[0;34m.\u001b[0m\u001b[0mnlevels\u001b[0m \u001b[0;34m>\u001b[0m \u001b[0;36m1\u001b[0m\u001b[0;34m:\u001b[0m\u001b[0;34m\u001b[0m\u001b[0;34m\u001b[0m\u001b[0m\n\u001b[1;32m   2901\u001b[0m                 \u001b[0;32mreturn\u001b[0m \u001b[0mself\u001b[0m\u001b[0;34m.\u001b[0m\u001b[0m_getitem_multilevel\u001b[0m\u001b[0;34m(\u001b[0m\u001b[0mkey\u001b[0m\u001b[0;34m)\u001b[0m\u001b[0;34m\u001b[0m\u001b[0;34m\u001b[0m\u001b[0m\n\u001b[0;32m-> 2902\u001b[0;31m             \u001b[0mindexer\u001b[0m \u001b[0;34m=\u001b[0m \u001b[0mself\u001b[0m\u001b[0;34m.\u001b[0m\u001b[0mcolumns\u001b[0m\u001b[0;34m.\u001b[0m\u001b[0mget_loc\u001b[0m\u001b[0;34m(\u001b[0m\u001b[0mkey\u001b[0m\u001b[0;34m)\u001b[0m\u001b[0;34m\u001b[0m\u001b[0;34m\u001b[0m\u001b[0m\n\u001b[0m\u001b[1;32m   2903\u001b[0m             \u001b[0;32mif\u001b[0m \u001b[0mis_integer\u001b[0m\u001b[0;34m(\u001b[0m\u001b[0mindexer\u001b[0m\u001b[0;34m)\u001b[0m\u001b[0;34m:\u001b[0m\u001b[0;34m\u001b[0m\u001b[0;34m\u001b[0m\u001b[0m\n\u001b[1;32m   2904\u001b[0m                 \u001b[0mindexer\u001b[0m \u001b[0;34m=\u001b[0m \u001b[0;34m[\u001b[0m\u001b[0mindexer\u001b[0m\u001b[0;34m]\u001b[0m\u001b[0;34m\u001b[0m\u001b[0;34m\u001b[0m\u001b[0m\n",
      "\u001b[0;32m~/anaconda3/lib/python3.8/site-packages/pandas/core/indexes/base.py\u001b[0m in \u001b[0;36mget_loc\u001b[0;34m(self, key, method, tolerance)\u001b[0m\n\u001b[1;32m   2895\u001b[0m                 \u001b[0;32mreturn\u001b[0m \u001b[0mself\u001b[0m\u001b[0;34m.\u001b[0m\u001b[0m_engine\u001b[0m\u001b[0;34m.\u001b[0m\u001b[0mget_loc\u001b[0m\u001b[0;34m(\u001b[0m\u001b[0mcasted_key\u001b[0m\u001b[0;34m)\u001b[0m\u001b[0;34m\u001b[0m\u001b[0;34m\u001b[0m\u001b[0m\n\u001b[1;32m   2896\u001b[0m             \u001b[0;32mexcept\u001b[0m \u001b[0mKeyError\u001b[0m \u001b[0;32mas\u001b[0m \u001b[0merr\u001b[0m\u001b[0;34m:\u001b[0m\u001b[0;34m\u001b[0m\u001b[0;34m\u001b[0m\u001b[0m\n\u001b[0;32m-> 2897\u001b[0;31m                 \u001b[0;32mraise\u001b[0m \u001b[0mKeyError\u001b[0m\u001b[0;34m(\u001b[0m\u001b[0mkey\u001b[0m\u001b[0;34m)\u001b[0m \u001b[0;32mfrom\u001b[0m \u001b[0merr\u001b[0m\u001b[0;34m\u001b[0m\u001b[0;34m\u001b[0m\u001b[0m\n\u001b[0m\u001b[1;32m   2898\u001b[0m \u001b[0;34m\u001b[0m\u001b[0m\n\u001b[1;32m   2899\u001b[0m         \u001b[0;32mif\u001b[0m \u001b[0mtolerance\u001b[0m \u001b[0;32mis\u001b[0m \u001b[0;32mnot\u001b[0m \u001b[0;32mNone\u001b[0m\u001b[0;34m:\u001b[0m\u001b[0;34m\u001b[0m\u001b[0;34m\u001b[0m\u001b[0m\n",
      "\u001b[0;31mKeyError\u001b[0m: 'epoch'"
     ]
    },
    {
     "data": {
      "text/plain": [
       "<Figure size 432x288 with 0 Axes>"
      ]
     },
     "metadata": {},
     "output_type": "display_data"
    }
   ],
   "source": [
    "from matplotlib.animation import FuncAnimation\n",
    "import matplotlib.animation as animation\n",
    "from IPython.display import Video\n",
    "import numpy as np\n",
    "import imageio\n",
    " \n",
    "\n",
    "def update_graph(num):\n",
    "    data=df_total[df_total['epoch']==num]\n",
    "    graph.set_data(data.x, data.y)\n",
    "    title.set_text('Latent space of epoch{}'.format(num))\n",
    "    return title, graph,\n",
    "\n",
    "def make_gif_latent_space(model, data, epochs=3, save_plot=True):\n",
    "    \n",
    "    trained_epochs = range(0, epochs) #load model trained this number of epochs\n",
    "    #Model loading\n",
    "    model = VAE()\n",
    "    \n",
    "    fig = plt.figure() \n",
    "    \n",
    "    df_total = pd.DataFrame(columns=['epoch', 'x', 'y', 'instrument'])\n",
    "    for epoch in trained_epochs:\n",
    "        \n",
    "        # Load trained model given the number of epochs trained\n",
    "        model.load_state_dict(torch.load(configs.ParamsConfig.TRAINED_MODELS_PATH + '/saved_model_' + str(epoch) + \"epochs.bin\"))\n",
    "        model.eval()\n",
    "        \n",
    "        instruments = []\n",
    "        for i, x in enumerate(data):\n",
    "            z_mu, z_sigma = model.encoder(x['input']) #model.encoder(x['input'].to(device))      \n",
    "            z = z_mu.to('cpu').detach().numpy()\n",
    "            instrument = x['file'][0].split('_')[0]        \n",
    "            \n",
    "            df_total = df_total.append({\"epoch\": epoch,\n",
    "                                          \"x\" : z[:, 0], \n",
    "                                          \"y\" : z[:, 1], \n",
    "                                          \"instrument\": instrument}, ignore_index=True)\n",
    "            \n",
    "    data=df[df['epoch']==0]\n",
    "    graph, = ax.plot(data.x, data.y)\n",
    "\n",
    "    ani = matplotlib.animation.FuncAnimation(fig, update_graph, 19, \n",
    "                               interval=400, blit=True)\n",
    "    ani.save(configs.PlotsConfig.PLOTS_PATH + '/gif_latent_space.mp4')\n",
    "\n",
    "    plt.show()\n",
    "    \n",
    "    \"\"\"    \n",
    "        ax.scatter(x, y, \n",
    "                    color=configs.PlotsConfig.COLORS.get(instrument), \n",
    "                    cmap='tab10', \n",
    "                    alpha=0.5,\n",
    "                    label=label)\n",
    "\n",
    "        ax.legend(loc='upper right', bbox_to_anchor=(1.25, 1))\n",
    "    \"\"\"\n",
    "    print(df_total)\n",
    "\n",
    "    return\n",
    "\n",
    "make_gif_latent_space(model, train_dataloader)"
   ]
  },
  {
   "cell_type": "code",
   "execution_count": 73,
   "metadata": {},
   "outputs": [
    {
     "name": "stdout",
     "output_type": "stream",
     "text": [
      "    time         x         y         z\n",
      "0    0.0  9.687313  4.476761  4.378693\n",
      "1    0.0  6.219984  9.870043  7.749157\n",
      "2    0.0  3.698115  9.910476  4.330277\n",
      "3    0.0  9.408257  8.500905  1.783604\n",
      "4    0.0  8.635221  4.618026  0.731994\n",
      "..   ...       ...       ...       ...\n",
      "95   0.0  5.999581  2.418433  6.756126\n",
      "96   0.0  5.104886  3.672010  0.195292\n",
      "97   0.0  3.452767  4.096752  3.767615\n",
      "98   0.0  1.605792  4.613592  3.964041\n",
      "99   0.0  3.194003  5.056921  0.355702\n",
      "\n",
      "[100 rows x 4 columns]\n"
     ]
    },
    {
     "data": {
      "image/png": "[encoded data removed]",
      "text/plain": [
       "<Figure size 432x288 with 1 Axes>"
      ]
     },
     "metadata": {
      "needs_background": "light"
     },
     "output_type": "display_data"
    }
   ],
   "source": [
    "import numpy as np\n",
    "from matplotlib import pyplot as plt\n",
    "from mpl_toolkits.mplot3d import Axes3D\n",
    "import matplotlib.animation\n",
    "import pandas as pd\n",
    "\n",
    "\n",
    "a = np.random.rand(2000, 3)*10\n",
    "t = np.array([np.ones(100)*i for i in range(20)]).flatten()\n",
    "df = pd.DataFrame({\"time\": t ,\"x\" : a[:,0], \"y\" : a[:,1], \"z\" : a[:,2]})\n",
    "\n",
    "def update_graph(num):\n",
    "    data=df[df['time']==num]\n",
    "    graph.set_data (data.x, data.y)\n",
    "    graph.set_3d_properties(data.z)\n",
    "    title.set_text('3D Test, time={}'.format(num))\n",
    "    return title, graph, \n",
    "\n",
    "\n",
    "fig = plt.figure()\n",
    "ax = fig.add_subplot(111, projection='3d')\n",
    "title = ax.set_title('3D Test')\n",
    "\n",
    "data=df[df['time']==0]\n",
    "graph, = ax.plot(data.x, data.y, data.z, linestyle=\"\", marker=\"o\")\n",
    "\n",
    "ani = matplotlib.animation.FuncAnimation(fig, update_graph, 19, \n",
    "                               interval=400, blit=True)\n",
    "ani.save(configs.PlotsConfig.PLOTS_PATH + '/gif_latent_space.mp4')\n",
    "\n",
    "plt.show()"
   ]
  },
  {
   "cell_type": "markdown",
   "metadata": {},
   "source": [
    "### 3 Latent Dimensions"
   ]
  },
  {
   "cell_type": "code",
   "execution_count": 33,
   "metadata": {},
   "outputs": [
    {
     "data": {
      "image/png": "[encoded data removed]",
      "text/plain": [
       "<Figure size 576x576 with 1 Axes>"
      ]
     },
     "metadata": {
      "needs_background": "light"
     },
     "output_type": "display_data"
    }
   ],
   "source": [
    "trained_epochs = \"0\" #load model trained this number of epochs\n",
    "\n",
    "\n",
    "#Model loading\n",
    "model = VAE()\n",
    "model.load_state_dict(torch.load(configs.ParamsConfig.TRAINED_MODELS_PATH + '/saved_model_' + str(trained_epochs) + \"epochs.bin\"))\n",
    "model.eval()\n",
    "    \n",
    "\n",
    "def plot_3_latent_dims(model, data, save_plot=True):\n",
    "    fig = plt.figure(figsize=(8,8))\n",
    "    ax = fig.add_subplot(111, projection='3d')\n",
    "    plt.title('Latent space of VAE trained ' + trained_epochs + ' epochs')\n",
    "    \n",
    "    instruments = []\n",
    "    for i, x in enumerate(data):\n",
    "        z_mu, z_sigma = model.encoder(x['input']) #model.encoder(x['input'].to(device))      \n",
    "        z = z_mu.to('cpu').detach().numpy()\n",
    "        instrument = x['file'][0].split('_')[0]\n",
    "        \n",
    "        # If a point of an instrument family is already in the plot, do not add new legend\n",
    "        if instrument not in instruments:\n",
    "            label = instrument\n",
    "        else:\n",
    "            label = None\n",
    "        ax.scatter(z[:, 0], z[:, 1], \n",
    "                    color=configs.PlotsConfig.COLORS.get(instrument), \n",
    "                    cmap='tab10', \n",
    "                    alpha=0.5,\n",
    "                    label=label)\n",
    "                 \n",
    "        instruments.append(instrument)\n",
    "        ax.legend(loc='upper right', bbox_to_anchor=(1.2, 1.05))\n",
    "        ax.grid(True)\n",
    "    \n",
    "    if save_plot:\n",
    "        if not os.path.exists(configs.PlotsConfig.PLOTS_PATH):\n",
    "            os.mkdir(configs.PlotsConfig.PLOTS_PATH) \n",
    "        plt.savefig(configs.PlotsConfig.PLOTS_PATH + '/3d_latent_space_' + trained_epochs + 'epochs.png')\n",
    "            \n",
    "\n",
    "plot_3_latent_dims(model, train_dataloader)"
   ]
  },
  {
   "cell_type": "markdown",
   "metadata": {},
   "source": [
    "## 6. GENERATING SAMPLES<a name=\"generating\"></a>"
   ]
  },
  {
   "cell_type": "code",
   "execution_count": null,
   "metadata": {},
   "outputs": [],
   "source": [
    "def sample_z(args):\n",
    "    \"\"\"Reparameterization trick by sampling from an isotropic unit Gaussian.\n",
    "\n",
    "    # Arguments\n",
    "        args (tensor): mean and log of variance of Q(z|X)\n",
    "\n",
    "    # Returns\n",
    "        z (tensor): sampled latent vector\n",
    "    \"\"\"\n",
    "    mu, sigma = args\n",
    "    batch     = torch.shape(mu)[0]\n",
    "    dim       = torch.int_shape(mu)[1]\n",
    "    # by default, random_normal has mean = 0 and std = 1.0\n",
    "    eps       = torch.random_normal(shape=(batch, dim))\n",
    "    return mu + torch.exp(sigma / 2) * eps"
   ]
  },
  {
   "cell_type": "markdown",
   "metadata": {},
   "source": [
    "### References <a name=\"references\"></a>\n",
    "\n",
    "* Adam Lineberry: [GiHub](https://github.com/alineberry/alcore/blob/master/notebooks/VAE.ipynb) [Blog](http://adamlineberry.ai/vae-series/vae-code-experiments)"
   ]
  },
  {
   "cell_type": "markdown",
   "metadata": {},
   "source": [
    "<div>\n",
    "    \n",
    "<button type=\"button\" class=\"btn btn-primary\" style=\"float:left; background-color:#a273f9; border:0\"><a href=\"#top\" style=\"color:white; text-decoration: none\">⇦ Back to Top</a></button>\n",
    "\n",
    "<button type=\"button\" class=\"btn btn-primary\" style=\"float:right; background-color:#BA55D3; border:0\"><a href=\"2-chord_prediction.ipynb\" style=\"color:white; text-decoration: none\">Go to Chord Detection ⇒</a></button>\n",
    "    \n",
    "</div>"
   ]
  },
  {
   "cell_type": "code",
   "execution_count": null,
   "metadata": {},
   "outputs": [],
   "source": []
  }
 ],
 "metadata": {
  "kernelspec": {
   "display_name": "Python 3",
   "language": "python",
   "name": "python3"
  },
  "language_info": {
   "codemirror_mode": {
    "name": "ipython",
    "version": 3
   },
   "file_extension": ".py",
   "mimetype": "text/x-python",
   "name": "python",
   "nbconvert_exporter": "python",
   "pygments_lexer": "ipython3",
   "version": "3.8.5"
  }
 },
 "nbformat": 4,
 "nbformat_minor": 4
}
